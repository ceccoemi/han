{
 "cells": [
  {
   "cell_type": "code",
   "execution_count": 1,
   "metadata": {},
   "outputs": [],
   "source": [
    "import torch\n",
    "import torch.nn as nn\n",
    "import torch.nn.functional as F\n",
    "import pandas as pd\n",
    "from gensim.models import KeyedVectors\n",
    "import matplotlib\n",
    "import matplotlib.pyplot as plt\n",
    "\n",
    "from dataset import WordDataset\n",
    "from models import Wan, Han\n",
    "from config import BATCH_SIZE, DEVICE, WORD_HIDDEN_SIZE, Yelp\n",
    "\n",
    "%matplotlib inline\n",
    "matplotlib.rcParams[\"figure.figsize\"] = [16, 13]"
   ]
  },
  {
   "cell_type": "code",
   "execution_count": 2,
   "metadata": {},
   "outputs": [
    {
     "data": {
      "text/plain": [
       "<All keys matched successfully>"
      ]
     },
     "execution_count": 2,
     "metadata": {},
     "output_type": "execute_result"
    }
   ],
   "source": [
    "df = pd.read_csv(\"data/yelp_test.csv\").fillna(\"\")\n",
    "wv = KeyedVectors.load(\"embedding/yelp.wv\")\n",
    "dataset = WordDataset(df.text, df.label, wv.vocab, 15)\n",
    "model = Wan(\n",
    "    embedding_matrix=wv.vectors,\n",
    "    word_hidden_size=WORD_HIDDEN_SIZE,\n",
    "    num_classes=len(df.label.unique()),\n",
    "    batch_size=1,\n",
    ")\n",
    "model.load_state_dict(\n",
    "    torch.load(\"models/yelp-wan-20200422-152139.pth\", map_location=torch.device(\"cpu\"))\n",
    ")"
   ]
  },
  {
   "cell_type": "code",
   "execution_count": 3,
   "metadata": {},
   "outputs": [
    {
     "name": "stdout",
     "output_type": "stream",
     "text": [
      "Label: 3\n",
      "good place for breakfast/brunch . sleek decoration . fresh food . good service PAD PAD\n"
     ]
    }
   ],
   "source": [
    "label, doc = dataset[62]\n",
    "print(f\"Label: {label}\")\n",
    "tokens = [wv.index2word[i] for i in doc]\n",
    "print(\" \".join(tokens))"
   ]
  },
  {
   "cell_type": "code",
   "execution_count": 4,
   "metadata": {},
   "outputs": [
    {
     "name": "stdout",
     "output_type": "stream",
     "text": [
      "Predicted label: 3\n"
     ]
    }
   ],
   "source": [
    "prediction = model(torch.LongTensor(doc).unsqueeze(0)).argmax(1).item()\n",
    "print(f\"Predicted label: {prediction}\")"
   ]
  },
  {
   "cell_type": "code",
   "execution_count": 12,
   "metadata": {},
   "outputs": [
    {
     "data": {
      "image/png": "[encoded data removed]",
      "text/plain": [
       "<Figure size 1152x936 with 1 Axes>"
      ]
     },
     "metadata": {
      "needs_background": "light"
     },
     "output_type": "display_data"
    }
   ],
   "source": [
    "fig, ax = plt.subplots()\n",
    "im = ax.imshow([model.word_attention.last_weights])\n",
    "ax.set_xticks(range(len(tokens)))\n",
    "ax.set_xticklabels(tokens)\n",
    "ax.set_title(\"Attention visualization\")\n",
    "\n",
    "\n",
    "# Add attention weight in each rectangle\n",
    "for i in range(len(tokens)):\n",
    "    ax.text(\n",
    "        i, 0, round(model.word_attention.last_weights[i], 2), ha=\"center\", va=\"center\", color=\"w\"\n",
    "    )\n",
    "    \n",
    "# Remove y ticks\n",
    "ax.yaxis.set_major_locator(plt.NullLocator())\n",
    "\n",
    "fig.tight_layout()"
   ]
  },
  {
   "cell_type": "code",
   "execution_count": 6,
   "metadata": {},
   "outputs": [
    {
     "data": {
      "text/plain": [
       "[0.20665067434310913,\n",
       " 0.15173140168190002,\n",
       " 0.036578286439180374,\n",
       " 0.05516770854592323,\n",
       " 0.12684839963912964,\n",
       " 0.04506660997867584,\n",
       " 0.01647718995809555,\n",
       " 0.010495677590370178,\n",
       " 0.029297783970832825,\n",
       " 0.025772487744688988,\n",
       " 0.07114111632108688,\n",
       " 0.07479581981897354,\n",
       " 0.062396466732025146,\n",
       " 0.04827486723661423,\n",
       " 0.03930554538965225]"
      ]
     },
     "execution_count": 6,
     "metadata": {},
     "output_type": "execute_result"
    }
   ],
   "source": [
    "model.word_attention.last_weights"
   ]
  },
  {
   "cell_type": "code",
   "execution_count": null,
   "metadata": {},
   "outputs": [],
   "source": []
  },
  {
   "cell_type": "code",
   "execution_count": null,
   "metadata": {},
   "outputs": [],
   "source": []
  },
  {
   "cell_type": "code",
   "execution_count": null,
   "metadata": {},
   "outputs": [],
   "source": [
    "from collections import Counter\n",
    "\n",
    "for i in range(0, 1000):\n",
    "    _, doc = dataset[i]\n",
    "    if Counter(doc)[0] == 2:\n",
    "        print(i)\n",
    "        break"
   ]
  },
  {
   "cell_type": "code",
   "execution_count": null,
   "metadata": {},
   "outputs": [],
   "source": []
  }
 ],
 "metadata": {
  "kernelspec": {
   "display_name": "Python 3",
   "language": "python",
   "name": "python3"
  },
  "language_info": {
   "codemirror_mode": {
    "name": "ipython",
    "version": 3
   },
   "file_extension": ".py",
   "mimetype": "text/x-python",
   "name": "python",
   "nbconvert_exporter": "python",
   "pygments_lexer": "ipython3",
   "version": "3.7.6"
  }
 },
 "nbformat": 4,
 "nbformat_minor": 4
}
