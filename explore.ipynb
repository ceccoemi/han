{
 "cells": [
  {
   "cell_type": "code",
   "execution_count": 21,
   "metadata": {},
   "outputs": [],
   "source": [
    "from itertools import islice\n",
    "\n",
    "import xml.etree.ElementTree as ET\n",
    "\n",
    "import pandas as pd\n",
    "from lxml import etree"
   ]
  },
  {
   "cell_type": "code",
   "execution_count": 23,
   "metadata": {},
   "outputs": [
    {
     "name": "stderr",
     "output_type": "stream",
     "text": [
      "/home/ceccoemi/Development/pyvenvs/venv37/lib/python3.7/site-packages/ipykernel_launcher.py:8: FutureWarning: The behavior of this method will change in future versions. Use specific 'len(elem)' or 'elem is not None' test instead.\n",
      "  \n",
      "/home/ceccoemi/Development/pyvenvs/venv37/lib/python3.7/site-packages/ipykernel_launcher.py:11: FutureWarning: The behavior of this method will change in future versions. Use specific 'len(elem)' or 'elem is not None' test instead.\n",
      "  # This is added back by InteractiveShellApp.init_path()\n",
      "/home/ceccoemi/Development/pyvenvs/venv37/lib/python3.7/site-packages/ipykernel_launcher.py:14: FutureWarning: The behavior of this method will change in future versions. Use specific 'len(elem)' or 'elem is not None' test instead.\n",
      "  \n"
     ]
    },
    {
     "name": "stdout",
     "output_type": "stream",
     "text": [
      "CPU times: user 7min 58s, sys: 26.5 s, total: 8min 25s\n",
      "Wall time: 8min 25s\n"
     ]
    },
    {
     "data": {
      "text/html": [
       "<div>\n",
       "<style scoped>\n",
       "    .dataframe tbody tr th:only-of-type {\n",
       "        vertical-align: middle;\n",
       "    }\n",
       "\n",
       "    .dataframe tbody tr th {\n",
       "        vertical-align: top;\n",
       "    }\n",
       "\n",
       "    .dataframe thead th {\n",
       "        text-align: right;\n",
       "    }\n",
       "</style>\n",
       "<table border=\"1\" class=\"dataframe\">\n",
       "  <thead>\n",
       "    <tr style=\"text-align: right;\">\n",
       "      <th></th>\n",
       "      <th>category</th>\n",
       "      <th>text</th>\n",
       "    </tr>\n",
       "  </thead>\n",
       "  <tbody>\n",
       "    <tr>\n",
       "      <th>0</th>\n",
       "      <td>Education &amp; Reference</td>\n",
       "      <td></td>\n",
       "    </tr>\n",
       "    <tr>\n",
       "      <th>1</th>\n",
       "      <td>Food &amp; Drink</td>\n",
       "      <td></td>\n",
       "    </tr>\n",
       "    <tr>\n",
       "      <th>2</th>\n",
       "      <td>Travel</td>\n",
       "      <td></td>\n",
       "    </tr>\n",
       "    <tr>\n",
       "      <th>3</th>\n",
       "      <td>Food &amp; Drink</td>\n",
       "      <td></td>\n",
       "    </tr>\n",
       "    <tr>\n",
       "      <th>4</th>\n",
       "      <td>Cars &amp; Transportation</td>\n",
       "      <td></td>\n",
       "    </tr>\n",
       "    <tr>\n",
       "      <th>...</th>\n",
       "      <td>...</td>\n",
       "      <td>...</td>\n",
       "    </tr>\n",
       "    <tr>\n",
       "      <th>99906</th>\n",
       "      <td>Business &amp; Finance</td>\n",
       "      <td></td>\n",
       "    </tr>\n",
       "    <tr>\n",
       "      <th>99907</th>\n",
       "      <td>Beauty &amp; Style</td>\n",
       "      <td></td>\n",
       "    </tr>\n",
       "    <tr>\n",
       "      <th>99908</th>\n",
       "      <td>Yahoo! Products</td>\n",
       "      <td></td>\n",
       "    </tr>\n",
       "    <tr>\n",
       "      <th>99909</th>\n",
       "      <td>Education &amp; Reference</td>\n",
       "      <td></td>\n",
       "    </tr>\n",
       "    <tr>\n",
       "      <th>99910</th>\n",
       "      <td>Entertainment &amp; Music</td>\n",
       "      <td></td>\n",
       "    </tr>\n",
       "  </tbody>\n",
       "</table>\n",
       "<p>99911 rows × 2 columns</p>\n",
       "</div>"
      ],
      "text/plain": [
       "                    category text\n",
       "0      Education & Reference     \n",
       "1               Food & Drink     \n",
       "2                     Travel     \n",
       "3               Food & Drink     \n",
       "4      Cars & Transportation     \n",
       "...                      ...  ...\n",
       "99906     Business & Finance     \n",
       "99907         Beauty & Style     \n",
       "99908        Yahoo! Products     \n",
       "99909  Education & Reference     \n",
       "99910  Entertainment & Music     \n",
       "\n",
       "[99911 rows x 2 columns]"
      ]
     },
     "execution_count": 23,
     "metadata": {},
     "output_type": "execute_result"
    }
   ],
   "source": [
    "%%time\n",
    "\n",
    "df = pd.DataFrame()\n",
    "\n",
    "for _, e in islice(etree.iterparse(\"datasets/FullOct2007.xml\", tag=\"document\"), 1_000_00):\n",
    "    category_element = e.find(\"maincat\")\n",
    "    if category_element is not None:\n",
    "        text = \"\"\n",
    "        subject_element = e.find(\"subject\")\n",
    "        if subject_element:\n",
    "            text += subject_element.text\n",
    "        content_element = e.find(\"content\")\n",
    "        if content_element:\n",
    "            text += content_element.text\n",
    "        best_answer_element = e.find(\"bestanswer\")\n",
    "        if best_answer_element:\n",
    "            text += best_answer_element.text\n",
    "        text = text.replace(\"<br />\", \" \")\n",
    "        category = category_element.text\n",
    "        df = df.append(\n",
    "            pd.Series({\"text\": text, \"category\": category}), ignore_index=True\n",
    "        )\n",
    "df "
   ]
  },
  {
   "cell_type": "code",
   "execution_count": 27,
   "metadata": {},
   "outputs": [
    {
     "name": "stdout",
     "output_type": "stream",
     "text": [
      "Business & Finance\n",
      "Computers & Internet\n",
      "Family & Relationships\n",
      "Entertainment & Music\n",
      "Health\n",
      "Science & Mathematics\n",
      "Education & Reference\n",
      "Society & Culture\n",
      "Politics & Government\n",
      "Sports\n"
     ]
    }
   ],
   "source": [
    "for cat in df.category.value_counts()[:10].index:\n",
    "    print(cat)"
   ]
  },
  {
   "cell_type": "code",
   "execution_count": null,
   "metadata": {},
   "outputs": [],
   "source": []
  }
 ],
 "metadata": {
  "kernelspec": {
   "display_name": "Python 3",
   "language": "python",
   "name": "python3"
  },
  "language_info": {
   "codemirror_mode": {
    "name": "ipython",
    "version": 3
   },
   "file_extension": ".py",
   "mimetype": "text/x-python",
   "name": "python",
   "nbconvert_exporter": "python",
   "pygments_lexer": "ipython3",
   "version": "3.7.6"
  }
 },
 "nbformat": 4,
 "nbformat_minor": 4
}
