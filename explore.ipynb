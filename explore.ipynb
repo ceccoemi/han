{
 "cells": [
  {
   "cell_type": "code",
   "execution_count": 1,
   "metadata": {},
   "outputs": [],
   "source": [
    "import torch\n",
    "from gensim.models import KeyedVectors\n",
    "\n",
    "import han\n",
    "from data_iterator import DataIterator\n",
    "from utils import load_pickled_obj"
   ]
  },
  {
   "cell_type": "code",
   "execution_count": 2,
   "metadata": {},
   "outputs": [],
   "source": [
    "dataset = load_pickled_obj(\"data/amazon_train_sample.pkl\")\n",
    "wv = KeyedVectors.load(\"embedding/amazon_sample.wv\")\n",
    "vocab_size = len(wv.vocab)\n",
    "embedding_dim = wv.vector_size\n",
    "embedding_matrix = wv.vectors"
   ]
  },
  {
   "cell_type": "code",
   "execution_count": 73,
   "metadata": {},
   "outputs": [],
   "source": [
    "class WordAttention(torch.nn.Module):\n",
    "    def __init__(self, input_size=100):\n",
    "        super(WordAttention, self).__init__()\n",
    "        self.context_vector = torch.nn.Parameter(\n",
    "            torch.Tensor(input_size, 1)\n",
    "        )\n",
    "        self.linear = torch.nn.Linear(in_features=input_size, out_features=input_size)\n",
    "\n",
    "    def forward(self, input):\n",
    "        output = torch.tanh(self.linear(input))\n",
    "        #print(\"C \", output.shape)\n",
    "        output = torch.matmul(output, self.context_vector).squeeze()\n",
    "        #print(\"D \", output.shape)\n",
    "        output = torch.nn.functional.softmax(output, dim=-1)\n",
    "        print(\"E \", output.shape)\n",
    "        print(\"E-bis \", input.shape)\n",
    "        out = []\n",
    "        for alpha, h in zip(output, input):\n",
    "            alpha = alpha.unsqueeze(1).expand_as(h)\n",
    "            o = alpha * h\n",
    "            out.append(o)\n",
    "        return sum(out)"
   ]
  },
  {
   "cell_type": "code",
   "execution_count": 74,
   "metadata": {
    "scrolled": true
   },
   "outputs": [
    {
     "name": "stdout",
     "output_type": "stream",
     "text": [
      "E  torch.Size([184, 64])\n",
      "E-bis  torch.Size([184, 64, 100])\n",
      "F  torch.Size([64, 100])\n"
     ]
    }
   ],
   "source": [
    "word_encoder = han.WordEncoder(embedding_matrix)\n",
    "word_attention = WordAttention()\n",
    "it = iter(DataIterator(dataset, wv.vocab))\n",
    "labels, batch = next(it)\n",
    "batch = torch.LongTensor(batch)\n",
    "batch = batch.permute(1, 0, 2)\n",
    "i = batch[0]\n",
    "i = i.permute(1, 0)\n",
    "#print(\"A \", i.shape)\n",
    "output, _ = word_encoder(i, torch.zeros(2, 64, 50))\n",
    "#print(\"B \", output.shape)\n",
    "output = word_attention(output)\n",
    "print(\"F \", output.shape)"
   ]
  },
  {
   "cell_type": "code",
   "execution_count": 61,
   "metadata": {},
   "outputs": [
    {
     "data": {
      "text/plain": [
       "tensor([2., 4., 6.])"
      ]
     },
     "execution_count": 61,
     "metadata": {},
     "output_type": "execute_result"
    }
   ],
   "source": [
    "torch.Tensor([1,2,3]) + torch.Tensor([1,2,3])"
   ]
  },
  {
   "cell_type": "code",
   "execution_count": null,
   "metadata": {},
   "outputs": [],
   "source": []
  }
 ],
 "metadata": {
  "kernelspec": {
   "display_name": "Python 3",
   "language": "python",
   "name": "python3"
  },
  "language_info": {
   "codemirror_mode": {
    "name": "ipython",
    "version": 3
   },
   "file_extension": ".py",
   "mimetype": "text/x-python",
   "name": "python",
   "nbconvert_exporter": "python",
   "pygments_lexer": "ipython3",
   "version": "3.7.5"
  }
 },
 "nbformat": 4,
 "nbformat_minor": 4
}
