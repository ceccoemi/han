{
 "cells": [
  {
   "cell_type": "code",
   "execution_count": 1,
   "metadata": {},
   "outputs": [],
   "source": [
    "import torch\n",
    "from gensim.models import KeyedVectors\n",
    "\n",
    "import han\n",
    "from data_iterator import DataIterator\n",
    "from utils import load_pickled_obj"
   ]
  },
  {
   "cell_type": "code",
   "execution_count": 2,
   "metadata": {},
   "outputs": [],
   "source": [
    "dataset = load_pickled_obj(\"data/amazon_train_sample.pkl\")\n",
    "wv = KeyedVectors.load(\"embedding/amazon_sample.wv\")\n",
    "vocab_size = len(wv.vocab)\n",
    "embedding_dim = wv.vector_size\n",
    "embedding_matrix = wv.vectors"
   ]
  },
  {
   "cell_type": "code",
   "execution_count": 3,
   "metadata": {},
   "outputs": [],
   "source": [
    "class WordAttention(torch.nn.Module):\n",
    "    def __init__(self, input_size=100):\n",
    "        super(WordAttention, self).__init__()\n",
    "        self.context_vector = torch.nn.Parameter(torch.Tensor(input_size, 1))\n",
    "        self.linear = torch.nn.Linear(in_features=input_size, out_features=input_size)\n",
    "\n",
    "    def forward(self, input):\n",
    "        output = torch.tanh(self.linear(input))\n",
    "        output = torch.matmul(output, self.context_vector).squeeze()\n",
    "        output = torch.nn.functional.softmax(output, dim=-1)\n",
    "        out = []\n",
    "        return sum(\n",
    "            alpha.unsqueeze(1).expand_as(h) * h for alpha, h in zip(output, input)\n",
    "        )"
   ]
  },
  {
   "cell_type": "code",
   "execution_count": 5,
   "metadata": {
    "scrolled": true
   },
   "outputs": [
    {
     "name": "stdout",
     "output_type": "stream",
     "text": [
      "(64, 240, 30)\n"
     ]
    },
    {
     "data": {
      "text/plain": [
       "torch.Size([15360, 100])"
      ]
     },
     "execution_count": 5,
     "metadata": {},
     "output_type": "execute_result"
    }
   ],
   "source": [
    "word_encoder = han.WordEncoder(embedding_matrix)\n",
    "word_attention = WordAttention()\n",
    "it = iter(DataIterator(dataset, wv.vocab))\n",
    "labels, batch = next(it)\n",
    "batch = torch.LongTensor(batch)\n",
    "output_list = []\n",
    "batch = batch.permute(1, 0, 2)\n",
    "for k, i in enumerate(batch):\n",
    "    i = i.permute(1, 0)\n",
    "    output, _ = word_encoder(i, torch.zeros(2, 64, 50))\n",
    "    output = word_attention(output)\n",
    "    output_list.append(output)\n",
    "output = torch.cat(output_list, 0)\n",
    "output.shape"
   ]
  },
  {
   "cell_type": "code",
   "execution_count": null,
   "metadata": {},
   "outputs": [],
   "source": []
  }
 ],
 "metadata": {
  "kernelspec": {
   "display_name": "Python 3",
   "language": "python",
   "name": "python3"
  },
  "language_info": {
   "codemirror_mode": {
    "name": "ipython",
    "version": 3
   },
   "file_extension": ".py",
   "mimetype": "text/x-python",
   "name": "python",
   "nbconvert_exporter": "python",
   "pygments_lexer": "ipython3",
   "version": "3.7.5"
  }
 },
 "nbformat": 4,
 "nbformat_minor": 4
}
