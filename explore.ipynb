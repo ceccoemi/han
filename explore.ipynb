{
 "cells": [
  {
   "cell_type": "code",
   "execution_count": 2,
   "metadata": {},
   "outputs": [],
   "source": [
    "import torch\n",
    "from gensim.models import KeyedVectors\n",
    "import pandas as pd\n",
    "\n",
    "from dataset import MyDataset\n",
    "from han import Han"
   ]
  },
  {
   "cell_type": "code",
   "execution_count": 3,
   "metadata": {},
   "outputs": [],
   "source": [
    "wv = KeyedVectors.load(\"embedding/yelp.wv\")\n",
    "model = Han(wv.vectors, num_classes=5)"
   ]
  },
  {
   "cell_type": "code",
   "execution_count": 26,
   "metadata": {},
   "outputs": [
    {
     "name": "stdout",
     "output_type": "stream",
     "text": [
      "<class 'str'>\n",
      "<class 'torch.Tensor'>\n",
      "<class 'torch.nn.parameter.Parameter'>\n",
      "<class 'str'>\n",
      "<class 'torch.Tensor'>\n",
      "<class 'torch.nn.parameter.Parameter'>\n",
      "<class 'str'>\n",
      "<class 'torch.Tensor'>\n",
      "<class 'torch.nn.parameter.Parameter'>\n",
      "<class 'str'>\n",
      "<class 'torch.Tensor'>\n",
      "<class 'torch.nn.parameter.Parameter'>\n",
      "<class 'str'>\n",
      "<class 'torch.Tensor'>\n",
      "<class 'torch.nn.parameter.Parameter'>\n",
      "<class 'str'>\n",
      "<class 'torch.Tensor'>\n",
      "<class 'torch.nn.parameter.Parameter'>\n",
      "<class 'str'>\n",
      "<class 'torch.Tensor'>\n",
      "<class 'torch.nn.parameter.Parameter'>\n",
      "<class 'str'>\n",
      "<class 'torch.Tensor'>\n",
      "<class 'torch.nn.parameter.Parameter'>\n",
      "<class 'str'>\n",
      "<class 'torch.Tensor'>\n",
      "<class 'torch.nn.parameter.Parameter'>\n",
      "<class 'str'>\n",
      "<class 'torch.Tensor'>\n",
      "<class 'torch.nn.parameter.Parameter'>\n",
      "<class 'str'>\n",
      "<class 'torch.Tensor'>\n",
      "<class 'torch.nn.parameter.Parameter'>\n",
      "<class 'str'>\n",
      "<class 'torch.Tensor'>\n",
      "<class 'torch.nn.parameter.Parameter'>\n",
      "<class 'str'>\n",
      "<class 'torch.Tensor'>\n",
      "<class 'torch.nn.parameter.Parameter'>\n",
      "<class 'str'>\n",
      "<class 'torch.Tensor'>\n",
      "<class 'torch.nn.parameter.Parameter'>\n",
      "<class 'str'>\n",
      "<class 'torch.Tensor'>\n",
      "<class 'torch.nn.parameter.Parameter'>\n",
      "<class 'str'>\n",
      "<class 'torch.Tensor'>\n",
      "<class 'torch.nn.parameter.Parameter'>\n",
      "<class 'str'>\n",
      "<class 'torch.Tensor'>\n",
      "<class 'torch.nn.parameter.Parameter'>\n",
      "<class 'str'>\n",
      "<class 'torch.Tensor'>\n",
      "<class 'torch.nn.parameter.Parameter'>\n",
      "<class 'str'>\n",
      "<class 'torch.Tensor'>\n",
      "<class 'torch.nn.parameter.Parameter'>\n",
      "<class 'str'>\n",
      "<class 'torch.Tensor'>\n",
      "<class 'torch.nn.parameter.Parameter'>\n",
      "<class 'str'>\n",
      "<class 'torch.Tensor'>\n",
      "<class 'torch.nn.parameter.Parameter'>\n",
      "<class 'str'>\n",
      "<class 'torch.Tensor'>\n",
      "<class 'torch.nn.parameter.Parameter'>\n",
      "<class 'str'>\n",
      "<class 'torch.Tensor'>\n",
      "<class 'torch.nn.parameter.Parameter'>\n",
      "<class 'str'>\n",
      "<class 'torch.Tensor'>\n",
      "<class 'torch.nn.parameter.Parameter'>\n",
      "<class 'str'>\n",
      "<class 'torch.Tensor'>\n",
      "<class 'torch.nn.parameter.Parameter'>\n"
     ]
    }
   ],
   "source": [
    "for k, v in zip(model.state_dict().items(), model.parameters()):\n"
   ]
  },
  {
   "cell_type": "code",
   "execution_count": null,
   "metadata": {},
   "outputs": [],
   "source": []
  }
 ],
 "metadata": {
  "kernelspec": {
   "display_name": "Python 3",
   "language": "python",
   "name": "python3"
  },
  "language_info": {
   "codemirror_mode": {
    "name": "ipython",
    "version": 3
   },
   "file_extension": ".py",
   "mimetype": "text/x-python",
   "name": "python",
   "nbconvert_exporter": "python",
   "pygments_lexer": "ipython3",
   "version": "3.7.5"
  }
 },
 "nbformat": 4,
 "nbformat_minor": 4
}
