{
 "cells": [
  {
   "cell_type": "code",
   "execution_count": 1,
   "metadata": {},
   "outputs": [],
   "source": [
    "import stanza"
   ]
  },
  {
   "cell_type": "code",
   "execution_count": 8,
   "metadata": {},
   "outputs": [
    {
     "name": "stderr",
     "output_type": "stream",
     "text": [
      "Downloading https://raw.githubusercontent.com/stanfordnlp/stanza-resources/master/resources_1.0.0.json: 116kB [00:00, 2.85MB/s]                    \n",
      "2020-03-22 11:49:07 INFO: Downloading these customized packages for language: en (English)...\n",
      "=======================\n",
      "| Processor | Package |\n",
      "-----------------------\n",
      "| tokenize  | ewt     |\n",
      "=======================\n",
      "\n",
      "2020-03-22 11:49:07 INFO: File exists: /home/ceccoemi/stanza_resources/en/tokenize/ewt.pt.\n",
      "2020-03-22 11:49:07 INFO: Finished downloading models and saved to /home/ceccoemi/stanza_resources.\n"
     ]
    }
   ],
   "source": [
    "stanza.download(\"en\", processors=\"tokenize\")"
   ]
  },
  {
   "cell_type": "code",
   "execution_count": 10,
   "metadata": {},
   "outputs": [
    {
     "name": "stderr",
     "output_type": "stream",
     "text": [
      "2020-03-22 11:49:40 INFO: Loading these models for language: en (English):\n",
      "=======================\n",
      "| Processor | Package |\n",
      "-----------------------\n",
      "| tokenize  | ewt     |\n",
      "=======================\n",
      "\n",
      "2020-03-22 11:49:40 INFO: Use device: cpu\n",
      "2020-03-22 11:49:40 INFO: Loading: tokenize\n",
      "2020-03-22 11:49:41 INFO: Done loading processors!\n"
     ]
    }
   ],
   "source": [
    "nlp = stanza.Pipeline(lang=\"en\", processors=\"tokenize\", use_gpu=False)"
   ]
  },
  {
   "cell_type": "code",
   "execution_count": 14,
   "metadata": {},
   "outputs": [
    {
     "name": "stdout",
     "output_type": "stream",
     "text": [
      "====== Sentence 1 tokens =======\n",
      "id: 1\ttext: This\n",
      "id: 2\ttext: is\n",
      "id: 3\ttext: a\n",
      "id: 4\ttext: sample\n",
      "id: 5\ttext: sentence\n",
      "id: 6\ttext: .\n",
      "====== Sentence 2 tokens =======\n",
      "id: 1\ttext: And\n",
      "id: 2\ttext: this\n",
      "id: 3\ttext: is\n",
      "id: 4\ttext: another\n",
      "id: 5\ttext: sentence\n"
     ]
    }
   ],
   "source": [
    "doc = nlp(\"This is a sample sentence, with a comma. And this is another sentence\")\n",
    "\n",
    "for i, sentence in enumerate(doc.sentences):\n",
    "    print(f'====== Sentence {i+1} tokens =======')\n",
    "    print(*[f'id: {token.id}\\ttext: {token.text}' for token in sentence.tokens], sep='\\n')"
   ]
  },
  {
   "cell_type": "code",
   "execution_count": null,
   "metadata": {},
   "outputs": [],
   "source": []
  },
  {
   "cell_type": "code",
   "execution_count": null,
   "metadata": {},
   "outputs": [],
   "source": []
  },
  {
   "cell_type": "code",
   "execution_count": null,
   "metadata": {},
   "outputs": [],
   "source": []
  }
 ],
 "metadata": {
  "kernelspec": {
   "display_name": "Python 3",
   "language": "python",
   "name": "python3"
  },
  "language_info": {
   "codemirror_mode": {
    "name": "ipython",
    "version": 3
   },
   "file_extension": ".py",
   "mimetype": "text/x-python",
   "name": "python",
   "nbconvert_exporter": "python",
   "pygments_lexer": "ipython3",
   "version": "3.7.5"
  }
 },
 "nbformat": 4,
 "nbformat_minor": 4
}
