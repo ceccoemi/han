{
 "cells": [
  {
   "cell_type": "code",
   "execution_count": 1,
   "metadata": {},
   "outputs": [],
   "source": [
    "from itertools import chain\n",
    "\n",
    "import numpy as np\n",
    "import pandas as pd\n",
    "import stanza\n",
    "import tensorflow as tf\n",
    "from tensorflow.keras import layers\n",
    "import tensorflow_datasets as tfds\n",
    "\n",
    "import utils\n",
    "\n",
    "#stanza.download(lang=\"en\", processors=\"tokenize\")"
   ]
  },
  {
   "cell_type": "code",
   "execution_count": 42,
   "metadata": {},
   "outputs": [],
   "source": [
    "tokenized_df = utils.load_tokenized_dataset(\"datasets/yahoo_10k_sample_tokenized.csv\")\n",
    "all_tokens = tokenized_df.tokens.apply(utils.flat_nested_list).sum()\n",
    "vocabulary = utils.build_vocabulary(all_tokens)\n",
    "encoder = tfds.features.text.TokenTextEncoder(vocabulary, strip_vocab=False)"
   ]
  },
  {
   "cell_type": "code",
   "execution_count": 43,
   "metadata": {},
   "outputs": [
    {
     "data": {
      "text/plain": [
       "0       [8410, 54899, 52428, 5947, 37441, 44865, 58566...\n",
       "1       [28327, 31353, 54899, 973, 34049, 58566, 37441...\n",
       "2       [49063, 30801, 56278, 55119, 33770, 37441, 494...\n",
       "3       [9299, 29985, 18153, 33244, 52218, 43383, 2998...\n",
       "4       [17103, 53571, 8907, 22715, 29985, 34049, 3530...\n",
       "                              ...                        \n",
       "9995    [17103, 47724, 56694, 58566, 37441, 53946, 424...\n",
       "9996    [54899, 46579, 52906, 25174, 45484, 8676, 2136...\n",
       "9997    [42437, 19131, 31247, 46465, 58566, 37441, 337...\n",
       "9998    [11148, 31353, 32699, 973, 49870, 32699, 39906...\n",
       "9999    [4767, 11072, 58566, 37441, 47586, 51762, 5490...\n",
       "Name: text, Length: 10000, dtype: object"
      ]
     },
     "execution_count": 43,
     "metadata": {},
     "output_type": "execute_result"
    }
   ],
   "source": [
    "df = pd.read_csv(\"datasets/yahoo_10k_sample.csv\")\n",
    "df.text.apply(encoder.encode)"
   ]
  },
  {
   "cell_type": "code",
   "execution_count": null,
   "metadata": {},
   "outputs": [],
   "source": []
  }
 ],
 "metadata": {
  "kernelspec": {
   "display_name": "Python 3",
   "language": "python",
   "name": "python3"
  },
  "language_info": {
   "codemirror_mode": {
    "name": "ipython",
    "version": 3
   },
   "file_extension": ".py",
   "mimetype": "text/x-python",
   "name": "python",
   "nbconvert_exporter": "python",
   "pygments_lexer": "ipython3",
   "version": "3.7.5"
  }
 },
 "nbformat": 4,
 "nbformat_minor": 4
}
