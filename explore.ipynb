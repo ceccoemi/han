{
 "cells": [
  {
   "cell_type": "code",
   "execution_count": 15,
   "metadata": {},
   "outputs": [],
   "source": [
    "import torch\n",
    "import torch.nn as nn\n",
    "import torch.nn.functional as F\n",
    "import pandas as pd\n",
    "from gensim.models import KeyedVectors\n",
    "\n",
    "from dataset import SentWordDataset\n",
    "from config import BATCH_SIZE"
   ]
  },
  {
   "cell_type": "code",
   "execution_count": 16,
   "metadata": {},
   "outputs": [],
   "source": [
    "class WordEncoder(nn.Module):\n",
    "    def __init__(self, embedding_matrix, hidden_size):\n",
    "        super(WordEncoder, self).__init__()\n",
    "        embedding_dim = embedding_matrix.shape[1]\n",
    "        self.embedding = nn.Embedding.from_pretrained(\n",
    "            embeddings=torch.FloatTensor(embedding_matrix), freeze=True,\n",
    "        )\n",
    "        self.gru = nn.GRU(\n",
    "            input_size=embedding_dim, hidden_size=hidden_size, bidirectional=True,\n",
    "        )\n",
    "\n",
    "    def forward(self, input, hidden_state):\n",
    "        output = self.embedding(input)\n",
    "        f_output, h_output = self.gru(output, hidden_state)\n",
    "        return f_output, h_output"
   ]
  },
  {
   "cell_type": "code",
   "execution_count": 50,
   "metadata": {},
   "outputs": [],
   "source": [
    "class WordAttention(nn.Module):\n",
    "    def __init__(self, input_size):\n",
    "        super(WordAttention, self).__init__()\n",
    "        self.fc = nn.Linear(input_size, input_size)\n",
    "        self.context_vector = nn.Parameter(torch.randn(input_size))\n",
    "    \n",
    "    def forward(self, input):\n",
    "        output = torch.tanh(self.fc(input))\n",
    "        print(output.shape)\n",
    "        output = torch.matmul(output, self.context_vector)\n",
    "        print(output.shape) \n",
    "        return output"
   ]
  },
  {
   "cell_type": "code",
   "execution_count": 51,
   "metadata": {},
   "outputs": [],
   "source": [
    "wv = KeyedVectors.load(\"embedding/yelp.wv\")\n",
    "df = pd.read_csv(\"data/yelp_train_sample.csv\").fillna(\"\")\n",
    "dataset = SentWordDataset(df.text, df.label, wv.vocab)\n",
    "loader = torch.utils.data.DataLoader(dataset, batch_size=BATCH_SIZE, shuffle=True)\n",
    "word_encoder = WordEncoder(embedding_matrix=wv.vectors, hidden_size=50)\n",
    "word_attention = WordAttention(input_size=50*2)"
   ]
  },
  {
   "cell_type": "code",
   "execution_count": 52,
   "metadata": {},
   "outputs": [
    {
     "name": "stdout",
     "output_type": "stream",
     "text": [
      "torch.Size([3, 23, 100])\n",
      "torch.Size([3, 23, 100])\n",
      "torch.Size([3, 23])\n"
     ]
    }
   ],
   "source": [
    "iter_loader = iter(loader)\n",
    "labels, features = next(iter_loader)\n",
    "features = features.permute(1, 2, 0)\n",
    "for sentence in features:\n",
    "    word_hidden_state = torch.zeros(2, BATCH_SIZE, 50)\n",
    "    word_encoder_outputs = []\n",
    "    for word in sentence:\n",
    "        # Add an empty dimension because the GRU needs a 3D input,\n",
    "        # moreover this is the dimension where all the encoder\n",
    "        # outputs will be concatenated\n",
    "        word = word.unsqueeze(0)  \n",
    "        output, word_hidden_state = word_encoder(word, word_hidden_state)\n",
    "        word_encoder_outputs.append(output)\n",
    "    attn_input = torch.cat(word_encoder_outputs, dim=0)\n",
    "    attn_input = attn_input.permute(1, 0, 2)\n",
    "    print(attn_input.shape)\n",
    "    output = word_attention(attn_input)\n",
    "    break"
   ]
  },
  {
   "cell_type": "code",
   "execution_count": 49,
   "metadata": {},
   "outputs": [
    {
     "data": {
      "text/plain": [
       "torch.Size([3, 23])"
      ]
     },
     "execution_count": 49,
     "metadata": {},
     "output_type": "execute_result"
    }
   ],
   "source": [
    "t = torch.FloatTensor(range(10)).expand(3, 23, 10)\n",
    "u = torch.ones(10)\n",
    "torch.matmul(t, u).shape"
   ]
  },
  {
   "cell_type": "code",
   "execution_count": 46,
   "metadata": {},
   "outputs": [
    {
     "data": {
      "text/plain": [
       "torch.Size([3, 23, 10])"
      ]
     },
     "execution_count": 46,
     "metadata": {},
     "output_type": "execute_result"
    }
   ],
   "source": [
    "t = torch.tensor(range(10)).expand(3, 23, 10)\n",
    "t.shape"
   ]
  },
  {
   "cell_type": "code",
   "execution_count": 44,
   "metadata": {},
   "outputs": [
    {
     "data": {
      "text/plain": [
       "45"
      ]
     },
     "execution_count": 44,
     "metadata": {},
     "output_type": "execute_result"
    }
   ],
   "source": [
    "sum(range(10))"
   ]
  },
  {
   "cell_type": "code",
   "execution_count": null,
   "metadata": {},
   "outputs": [],
   "source": []
  }
 ],
 "metadata": {
  "kernelspec": {
   "display_name": "Python 3",
   "language": "python",
   "name": "python3"
  },
  "language_info": {
   "codemirror_mode": {
    "name": "ipython",
    "version": 3
   },
   "file_extension": ".py",
   "mimetype": "text/x-python",
   "name": "python",
   "nbconvert_exporter": "python",
   "pygments_lexer": "ipython3",
   "version": "3.7.5"
  }
 },
 "nbformat": 4,
 "nbformat_minor": 4
}
