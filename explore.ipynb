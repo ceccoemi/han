{
 "cells": [
  {
   "cell_type": "code",
   "execution_count": 2,
   "metadata": {},
   "outputs": [],
   "source": [
    "import pandas as pd\n",
    "from gensim.models import KeyedVectors\n",
    "\n",
    "from data_iterator import LazyDataIterator"
   ]
  },
  {
   "cell_type": "code",
   "execution_count": 11,
   "metadata": {},
   "outputs": [],
   "source": [
    "pd.concat([\n",
    "    pd.read_csv(\"data/amazon_train.csv\").fillna(\"\"),\n",
    "    pd.read_csv(\"data/amazon_val.csv\").fillna(\"\")\n",
    "]).sample(frac=1).to_csv(\"data/amazon_trainval.csv\", index=False)"
   ]
  },
  {
   "cell_type": "code",
   "execution_count": 12,
   "metadata": {},
   "outputs": [
    {
     "data": {
      "text/html": [
       "<div>\n",
       "<style scoped>\n",
       "    .dataframe tbody tr th:only-of-type {\n",
       "        vertical-align: middle;\n",
       "    }\n",
       "\n",
       "    .dataframe tbody tr th {\n",
       "        vertical-align: top;\n",
       "    }\n",
       "\n",
       "    .dataframe thead th {\n",
       "        text-align: right;\n",
       "    }\n",
       "</style>\n",
       "<table border=\"1\" class=\"dataframe\">\n",
       "  <thead>\n",
       "    <tr style=\"text-align: right;\">\n",
       "      <th></th>\n",
       "      <th>label</th>\n",
       "      <th>text</th>\n",
       "    </tr>\n",
       "  </thead>\n",
       "  <tbody>\n",
       "    <tr>\n",
       "      <th>0</th>\n",
       "      <td>4</td>\n",
       "      <td>I had never seen book before but I found it ve...</td>\n",
       "    </tr>\n",
       "    <tr>\n",
       "      <th>1</th>\n",
       "      <td>1</td>\n",
       "      <td>This book is well written and includes helpful...</td>\n",
       "    </tr>\n",
       "    <tr>\n",
       "      <th>2</th>\n",
       "      <td>4</td>\n",
       "      <td>The Intelligent Investor is basically two book...</td>\n",
       "    </tr>\n",
       "    <tr>\n",
       "      <th>3</th>\n",
       "      <td>5</td>\n",
       "      <td>I love this book and have since before I could...</td>\n",
       "    </tr>\n",
       "    <tr>\n",
       "      <th>4</th>\n",
       "      <td>5</td>\n",
       "      <td>Incredible book and very informative.  Books l...</td>\n",
       "    </tr>\n",
       "    <tr>\n",
       "      <th>...</th>\n",
       "      <td>...</td>\n",
       "      <td>...</td>\n",
       "    </tr>\n",
       "    <tr>\n",
       "      <th>3284995</th>\n",
       "      <td>5</td>\n",
       "      <td>Good book, except no access code.</td>\n",
       "    </tr>\n",
       "    <tr>\n",
       "      <th>3284996</th>\n",
       "      <td>1</td>\n",
       "      <td>He did not appreciate it - threw it out and go...</td>\n",
       "    </tr>\n",
       "    <tr>\n",
       "      <th>3284997</th>\n",
       "      <td>3</td>\n",
       "      <td>I have read most of his books. This book was g...</td>\n",
       "    </tr>\n",
       "    <tr>\n",
       "      <th>3284998</th>\n",
       "      <td>5</td>\n",
       "      <td>great story well told</td>\n",
       "    </tr>\n",
       "    <tr>\n",
       "      <th>3284999</th>\n",
       "      <td>3</td>\n",
       "      <td>I was in Cooke City with family when someone r...</td>\n",
       "    </tr>\n",
       "  </tbody>\n",
       "</table>\n",
       "<p>3285000 rows × 2 columns</p>\n",
       "</div>"
      ],
      "text/plain": [
       "         label                                               text\n",
       "0            4  I had never seen book before but I found it ve...\n",
       "1            1  This book is well written and includes helpful...\n",
       "2            4  The Intelligent Investor is basically two book...\n",
       "3            5  I love this book and have since before I could...\n",
       "4            5  Incredible book and very informative.  Books l...\n",
       "...        ...                                                ...\n",
       "3284995      5                  Good book, except no access code.\n",
       "3284996      1  He did not appreciate it - threw it out and go...\n",
       "3284997      3  I have read most of his books. This book was g...\n",
       "3284998      5                              great story well told\n",
       "3284999      3  I was in Cooke City with family when someone r...\n",
       "\n",
       "[3285000 rows x 2 columns]"
      ]
     },
     "execution_count": 12,
     "metadata": {},
     "output_type": "execute_result"
    }
   ],
   "source": [
    "pd.read_csv(\"data/amazon_trainval.csv\")"
   ]
  },
  {
   "cell_type": "code",
   "execution_count": 13,
   "metadata": {},
   "outputs": [
    {
     "data": {
      "text/plain": [
       "3285000.0"
      ]
     },
     "execution_count": 13,
     "metadata": {},
     "output_type": "execute_result"
    }
   ],
   "source": [
    "3_650_000 * 0.9"
   ]
  },
  {
   "cell_type": "code",
   "execution_count": null,
   "metadata": {},
   "outputs": [],
   "source": []
  }
 ],
 "metadata": {
  "kernelspec": {
   "display_name": "Python 3",
   "language": "python",
   "name": "python3"
  },
  "language_info": {
   "codemirror_mode": {
    "name": "ipython",
    "version": 3
   },
   "file_extension": ".py",
   "mimetype": "text/x-python",
   "name": "python",
   "nbconvert_exporter": "python",
   "pygments_lexer": "ipython3",
   "version": "3.7.5"
  }
 },
 "nbformat": 4,
 "nbformat_minor": 4
}
