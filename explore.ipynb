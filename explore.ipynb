{
 "cells": [
  {
   "cell_type": "code",
   "execution_count": 1,
   "metadata": {},
   "outputs": [],
   "source": [
    "import pandas as pd\n",
    "from sklearn.model_selection import train_test_split\n",
    "from sklearn.feature_extraction.text import CountVectorizer"
   ]
  },
  {
   "cell_type": "code",
   "execution_count": 2,
   "metadata": {},
   "outputs": [
    {
     "data": {
      "text/html": [
       "<div>\n",
       "<style scoped>\n",
       "    .dataframe tbody tr th:only-of-type {\n",
       "        vertical-align: middle;\n",
       "    }\n",
       "\n",
       "    .dataframe tbody tr th {\n",
       "        vertical-align: top;\n",
       "    }\n",
       "\n",
       "    .dataframe thead th {\n",
       "        text-align: right;\n",
       "    }\n",
       "</style>\n",
       "<table border=\"1\" class=\"dataframe\">\n",
       "  <thead>\n",
       "    <tr style=\"text-align: right;\">\n",
       "      <th></th>\n",
       "      <th>stars</th>\n",
       "      <th>text</th>\n",
       "    </tr>\n",
       "  </thead>\n",
       "  <tbody>\n",
       "    <tr>\n",
       "      <th>0</th>\n",
       "      <td>4</td>\n",
       "      <td>The resto owns up to its name with a wine list...</td>\n",
       "    </tr>\n",
       "    <tr>\n",
       "      <th>1</th>\n",
       "      <td>2</td>\n",
       "      <td>The only reason this isn't a 5 star rating is ...</td>\n",
       "    </tr>\n",
       "    <tr>\n",
       "      <th>2</th>\n",
       "      <td>3</td>\n",
       "      <td>5 star service but the food was drowning in sa...</td>\n",
       "    </tr>\n",
       "    <tr>\n",
       "      <th>3</th>\n",
       "      <td>1</td>\n",
       "      <td>Stale donuts again. I think I will just skip D...</td>\n",
       "    </tr>\n",
       "    <tr>\n",
       "      <th>4</th>\n",
       "      <td>4</td>\n",
       "      <td>Super fun, with a few cons:\\n\\n-parking is A B...</td>\n",
       "    </tr>\n",
       "    <tr>\n",
       "      <th>...</th>\n",
       "      <td>...</td>\n",
       "      <td>...</td>\n",
       "    </tr>\n",
       "    <tr>\n",
       "      <th>1569260</th>\n",
       "      <td>2</td>\n",
       "      <td>The food is decent but the service is awful an...</td>\n",
       "    </tr>\n",
       "    <tr>\n",
       "      <th>1569261</th>\n",
       "      <td>5</td>\n",
       "      <td>We had the best time here! Food was great! Ser...</td>\n",
       "    </tr>\n",
       "    <tr>\n",
       "      <th>1569262</th>\n",
       "      <td>4</td>\n",
       "      <td>Probably the prettiest nail salon I've ever be...</td>\n",
       "    </tr>\n",
       "    <tr>\n",
       "      <th>1569263</th>\n",
       "      <td>3</td>\n",
       "      <td>This food is great and service is great! Came ...</td>\n",
       "    </tr>\n",
       "    <tr>\n",
       "      <th>1569264</th>\n",
       "      <td>4</td>\n",
       "      <td>Very frustrated with Herbal Nails this time.  ...</td>\n",
       "    </tr>\n",
       "  </tbody>\n",
       "</table>\n",
       "<p>1569265 rows × 2 columns</p>\n",
       "</div>"
      ],
      "text/plain": [
       "         stars                                               text\n",
       "0            4  The resto owns up to its name with a wine list...\n",
       "1            2  The only reason this isn't a 5 star rating is ...\n",
       "2            3  5 star service but the food was drowning in sa...\n",
       "3            1  Stale donuts again. I think I will just skip D...\n",
       "4            4  Super fun, with a few cons:\\n\\n-parking is A B...\n",
       "...        ...                                                ...\n",
       "1569260      2  The food is decent but the service is awful an...\n",
       "1569261      5  We had the best time here! Food was great! Ser...\n",
       "1569262      4  Probably the prettiest nail salon I've ever be...\n",
       "1569263      3  This food is great and service is great! Came ...\n",
       "1569264      4  Very frustrated with Herbal Nails this time.  ...\n",
       "\n",
       "[1569265 rows x 2 columns]"
      ]
     },
     "execution_count": 2,
     "metadata": {},
     "output_type": "execute_result"
    }
   ],
   "source": [
    "df = pd.read_csv(\"datasets/amazon.csv\")\n",
    "df"
   ]
  },
  {
   "cell_type": "code",
   "execution_count": 23,
   "metadata": {},
   "outputs": [],
   "source": [
    "text_train, text_test, y_train, y_test = train_test_split(\n",
    "    df.text, df.stars, test_size=0.1, stratify=df.stars\n",
    ")"
   ]
  },
  {
   "cell_type": "code",
   "execution_count": 24,
   "metadata": {},
   "outputs": [
    {
     "data": {
      "text/plain": [
       "5    31386\n",
       "1    31386\n",
       "4    31385\n",
       "3    31385\n",
       "2    31385\n",
       "Name: stars, dtype: int64"
      ]
     },
     "execution_count": 24,
     "metadata": {},
     "output_type": "execute_result"
    }
   ],
   "source": [
    "y_test.value_counts()"
   ]
  }
 ],
 "metadata": {
  "kernelspec": {
   "display_name": "Python 3",
   "language": "python",
   "name": "python3"
  },
  "language_info": {
   "codemirror_mode": {
    "name": "ipython",
    "version": 3
   },
   "file_extension": ".py",
   "mimetype": "text/x-python",
   "name": "python",
   "nbconvert_exporter": "python",
   "pygments_lexer": "ipython3",
   "version": "3.7.5"
  }
 },
 "nbformat": 4,
 "nbformat_minor": 4
}
