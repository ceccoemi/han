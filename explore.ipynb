{
 "cells": [
  {
   "cell_type": "code",
   "execution_count": 1,
   "metadata": {},
   "outputs": [],
   "source": [
    "from gensim.models import KeyedVectors\n",
    "\n",
    "from utils import load_pickled_obj"
   ]
  },
  {
   "cell_type": "code",
   "execution_count": 3,
   "metadata": {},
   "outputs": [],
   "source": [
    "dataset = load_pickled_obj(\"data/amazon_train_sample.pkl\")"
   ]
  },
  {
   "cell_type": "code",
   "execution_count": null,
   "metadata": {},
   "outputs": [],
   "source": []
  },
  {
   "cell_type": "code",
   "execution_count": 15,
   "metadata": {},
   "outputs": [
    {
     "data": {
      "text/plain": [
       "(1,\n",
       " [['the', 'kindle', 'edition', 'is', 'unreadable', '.'],\n",
       "  ['it',\n",
       "   \"'s\",\n",
       "   'completely',\n",
       "   'unformatted',\n",
       "   ',',\n",
       "   'and',\n",
       "   'seems',\n",
       "   'to',\n",
       "   'have',\n",
       "   'short',\n",
       "   'stretches',\n",
       "   'of',\n",
       "   'something',\n",
       "   'else',\n",
       "   'mixed',\n",
       "   'in',\n",
       "   '.'],\n",
       "  ['buy', 'a', 'paper', 'copy', 'instead', '.']])"
      ]
     },
     "execution_count": 15,
     "metadata": {},
     "output_type": "execute_result"
    }
   ],
   "source": [
    "class DataIterator:\n",
    "    def __init__(self, dataset, vocab, batch_size=64):\n",
    "        self.dataset = dataset\n",
    "        self.vocab = vocab\n",
    "    \n",
    "    def _word_to_index(word):\n",
    "        try:\n",
    "            return vocab[word].index\n",
    "        except KeyError:\n",
    "            return vocab[\"UNK\"].index\n",
    "    \n",
    "    def __iter__(self):\n",
    "        pass"
   ]
  },
  {
   "cell_type": "code",
   "execution_count": null,
   "metadata": {},
   "outputs": [],
   "source": []
  }
 ],
 "metadata": {
  "kernelspec": {
   "display_name": "Python 3",
   "language": "python",
   "name": "python3"
  },
  "language_info": {
   "codemirror_mode": {
    "name": "ipython",
    "version": 3
   },
   "file_extension": ".py",
   "mimetype": "text/x-python",
   "name": "python",
   "nbconvert_exporter": "python",
   "pygments_lexer": "ipython3",
   "version": "3.7.5"
  }
 },
 "nbformat": 4,
 "nbformat_minor": 4
}
