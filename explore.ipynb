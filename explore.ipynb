{
 "cells": [
  {
   "cell_type": "code",
   "execution_count": 1,
   "metadata": {},
   "outputs": [],
   "source": [
    "import torch\n",
    "from gensim.models import KeyedVectors\n",
    "\n",
    "from data_iterator import DataIterator\n",
    "from utils import load_pickled_obj"
   ]
  },
  {
   "cell_type": "code",
   "execution_count": 2,
   "metadata": {},
   "outputs": [],
   "source": [
    "wv = KeyedVectors.load(\"embedding/amazon_sample.wv\")\n",
    "vocab_size = len(wv.vocab)\n",
    "embedding_dim = wv.vector_size\n",
    "embedding_matrix = wv.vectors"
   ]
  },
  {
   "cell_type": "code",
   "execution_count": 7,
   "metadata": {},
   "outputs": [],
   "source": [
    "class WordEncoder(torch.nn.Module):\n",
    "    def __init__(self, embedding_matrix, hidden_size=50):\n",
    "        super(WordEncoder, self).__init__()\n",
    "        embedding_dim = embedding_matrix.shape[1]\n",
    "        self.embedding = torch.nn.Embedding.from_pretrained(\n",
    "            embeddings=torch.FloatTensor(embedding_matrix), freeze=True,\n",
    "        )\n",
    "        self.gru = torch.nn.GRU(\n",
    "            input_size=embedding_dim, hidden_size=hidden_size, bidirectional=True\n",
    "        )\n",
    "        self.word_context_vector = torch.nn.Parameter(\n",
    "            torch.Tensor(2 * hidden_size, 2 * hidden_size)\n",
    "        )\n",
    "\n",
    "    def forward(self, input, hidden_state):\n",
    "        output = self.embedding(input)\n",
    "        return self.gru(output.float(), hidden_state)"
   ]
  },
  {
   "cell_type": "code",
   "execution_count": 4,
   "metadata": {},
   "outputs": [],
   "source": [
    "dataset = load_pickled_obj(\"data/amazon_train_sample.pkl\")"
   ]
  },
  {
   "cell_type": "code",
   "execution_count": 17,
   "metadata": {},
   "outputs": [
    {
     "name": "stderr",
     "output_type": "stream",
     "text": [
      "\n",
      "\n",
      "\n",
      "\n",
      "\n",
      "\n",
      "\n",
      "\n",
      "\n",
      "  0%|          | 0/328500 [00:00<?, ?it/s]\u001b[A\u001b[A\u001b[A\u001b[A\u001b[A\u001b[A\u001b[A\u001b[A\u001b[A"
     ]
    },
    {
     "name": "stdout",
     "output_type": "stream",
     "text": [
      "torch.Size([184, 64, 100])\n",
      "torch.Size([2, 64, 50])\n"
     ]
    }
   ],
   "source": [
    "encoder = WordEncoder(embedding_matrix)\n",
    "it = iter(DataIterator(dataset, wv.vocab))\n",
    "labels, batch = next(it)\n",
    "batch = torch.LongTensor(batch)\n",
    "batch = batch.permute(1, 0, 2)\n",
    "batch.shape\n",
    "i = batch[0]\n",
    "i = i.permute(1, 0)\n",
    "output, h_output = encoder(i, torch.zeros(2, 64, 50))\n",
    "print(output.shape)\n",
    "print(h_output.shape)"
   ]
  },
  {
   "cell_type": "code",
   "execution_count": null,
   "metadata": {},
   "outputs": [],
   "source": []
  }
 ],
 "metadata": {
  "kernelspec": {
   "display_name": "Python 3",
   "language": "python",
   "name": "python3"
  },
  "language_info": {
   "codemirror_mode": {
    "name": "ipython",
    "version": 3
   },
   "file_extension": ".py",
   "mimetype": "text/x-python",
   "name": "python",
   "nbconvert_exporter": "python",
   "pygments_lexer": "ipython3",
   "version": "3.7.5"
  }
 },
 "nbformat": 4,
 "nbformat_minor": 4
}
