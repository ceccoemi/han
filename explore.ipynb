{
 "cells": [
  {
   "cell_type": "code",
   "execution_count": 1,
   "metadata": {},
   "outputs": [],
   "source": [
    "import torch\n",
    "from gensim.models import KeyedVectors\n",
    "\n",
    "import utils\n",
    "\n",
    "device = torch.device(\"cuda\" if torch.cuda.is_available() else \"cpu\")"
   ]
  },
  {
   "cell_type": "code",
   "execution_count": 17,
   "metadata": {},
   "outputs": [],
   "source": [
    "# to get the index of a token:\n",
    "# wv.vocab[token].index\n",
    "\n",
    "# in the paper hidden_size=50\n",
    "\n",
    "\n",
    "class WordEncoder(torch.nn.Module):\n",
    "    def __init__(self, embedding_weights, hidden_size):\n",
    "        super(WordEncoder, self).__init__()\n",
    "        self.embedding = torch.nn.Embedding.from_pretrained(embedding_weights, freeze=True)\n",
    "        self.gru = torch.nn.GRU(\n",
    "            input_size=self.embedding.embedding_dim, \n",
    "            hidden_size=hidden_size,\n",
    "            bidirectional=True,\n",
    "        )\n",
    "    \n",
    "    def forward(self, input, hidden):\n",
    "        embedding = self.embedding(input).view(1, 1, -1)\n",
    "        output, hidden = self.gru(embedding, hidden)\n",
    "        return output, hidden"
   ]
  },
  {
   "cell_type": "code",
   "execution_count": 18,
   "metadata": {},
   "outputs": [],
   "source": [
    "wv = KeyedVectors.load(\"embedding/amazon_embedding.wv\")\n",
    "embedding_weights = torch.FloatTensor(wv.vectors)\n",
    "word_encoder = WordEncoder(embedding_weights, hidden_size=50)\n",
    "\n",
    "criterion = torch.nn.CrossEntropyLoss()\n",
    "optimizer = torch.optim.SGD(\n",
    "    word_encoder.parameters(), lr=0.001, momentum=0.9\n",
    ")"
   ]
  },
  {
   "cell_type": "code",
   "execution_count": null,
   "metadata": {},
   "outputs": [],
   "source": []
  }
 ],
 "metadata": {
  "kernelspec": {
   "display_name": "Python 3",
   "language": "python",
   "name": "python3"
  },
  "language_info": {
   "codemirror_mode": {
    "name": "ipython",
    "version": 3
   },
   "file_extension": ".py",
   "mimetype": "text/x-python",
   "name": "python",
   "nbconvert_exporter": "python",
   "pygments_lexer": "ipython3",
   "version": "3.7.5"
  }
 },
 "nbformat": 4,
 "nbformat_minor": 4
}
