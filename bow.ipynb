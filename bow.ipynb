{
 "cells": [
  {
   "cell_type": "code",
   "execution_count": 2,
   "metadata": {},
   "outputs": [],
   "source": [
    "import pandas as pd\n",
    "from sklearn.model_selection import train_test_split, GridSearchCV\n",
    "from sklearn.feature_extraction.text import CountVectorizer, TfidfVectorizer\n",
    "from sklearn.pipeline import make_pipeline\n",
    "from sklearn.linear_model import SGDClassifier\n",
    "from sklearn.preprocessing import MaxAbsScaler\n",
    "from sklearn.metrics import accuracy_score"
   ]
  },
  {
   "cell_type": "code",
   "execution_count": 3,
   "metadata": {},
   "outputs": [
    {
     "name": "stdout",
     "output_type": "stream",
     "text": [
      "Dataset size: 14123376\n"
     ]
    },
    {
     "data": {
      "text/plain": [
       "review_id      1569264\n",
       "user_id        1569264\n",
       "business_id    1569264\n",
       "stars          1569264\n",
       "useful         1569264\n",
       "funny          1569264\n",
       "cool           1569264\n",
       "text           1569264\n",
       "date           1569264\n",
       "dtype: int64"
      ]
     },
     "execution_count": 3,
     "metadata": {},
     "output_type": "execute_result"
    }
   ],
   "source": [
    "original_df = pd.read_json(\n",
    "    \"datasets/yelp_reviews.json\", orient=\"records\", lines=True\n",
    ")\n",
    "print(f\"Dataset size: {original_df.size}\")\n",
    "original_df.count()"
   ]
  },
  {
   "cell_type": "code",
   "execution_count": 4,
   "metadata": {},
   "outputs": [
    {
     "data": {
      "text/html": [
       "<div>\n",
       "<style scoped>\n",
       "    .dataframe tbody tr th:only-of-type {\n",
       "        vertical-align: middle;\n",
       "    }\n",
       "\n",
       "    .dataframe tbody tr th {\n",
       "        vertical-align: top;\n",
       "    }\n",
       "\n",
       "    .dataframe thead th {\n",
       "        text-align: right;\n",
       "    }\n",
       "</style>\n",
       "<table border=\"1\" class=\"dataframe\">\n",
       "  <thead>\n",
       "    <tr style=\"text-align: right;\">\n",
       "      <th></th>\n",
       "      <th>stars</th>\n",
       "      <th>text</th>\n",
       "    </tr>\n",
       "    <tr>\n",
       "      <th>review_id</th>\n",
       "      <th></th>\n",
       "      <th></th>\n",
       "    </tr>\n",
       "  </thead>\n",
       "  <tbody>\n",
       "    <tr>\n",
       "      <th>fYPIcACr6deeTW9k1cSAtg</th>\n",
       "      <td>4</td>\n",
       "      <td>David &amp; Scott have an awesome restaurant and t...</td>\n",
       "    </tr>\n",
       "    <tr>\n",
       "      <th>eaJEFDJnWzlaA8lDdQY7UA</th>\n",
       "      <td>4</td>\n",
       "      <td>I'm a video game designer, and it's a pleasure...</td>\n",
       "    </tr>\n",
       "    <tr>\n",
       "      <th>t7yI1IPHU7tU6xQ1xDkwoQ</th>\n",
       "      <td>4</td>\n",
       "      <td>I originally ordered my fireplace doors throug...</td>\n",
       "    </tr>\n",
       "    <tr>\n",
       "      <th>Rp4XamHh5nQVSoswA6SzwQ</th>\n",
       "      <td>4</td>\n",
       "      <td>Thanks to all previous reviewers helping us to...</td>\n",
       "    </tr>\n",
       "    <tr>\n",
       "      <th>oRTVi_h7hYiQptRzK3mTPg</th>\n",
       "      <td>0</td>\n",
       "      <td>The restaurant itself and overall vibe doesn't...</td>\n",
       "    </tr>\n",
       "  </tbody>\n",
       "</table>\n",
       "</div>"
      ],
      "text/plain": [
       "                        stars  \\\n",
       "review_id                       \n",
       "fYPIcACr6deeTW9k1cSAtg      4   \n",
       "eaJEFDJnWzlaA8lDdQY7UA      4   \n",
       "t7yI1IPHU7tU6xQ1xDkwoQ      4   \n",
       "Rp4XamHh5nQVSoswA6SzwQ      4   \n",
       "oRTVi_h7hYiQptRzK3mTPg      0   \n",
       "\n",
       "                                                                     text  \n",
       "review_id                                                                  \n",
       "fYPIcACr6deeTW9k1cSAtg  David & Scott have an awesome restaurant and t...  \n",
       "eaJEFDJnWzlaA8lDdQY7UA  I'm a video game designer, and it's a pleasure...  \n",
       "t7yI1IPHU7tU6xQ1xDkwoQ  I originally ordered my fireplace doors throug...  \n",
       "Rp4XamHh5nQVSoswA6SzwQ  Thanks to all previous reviewers helping us to...  \n",
       "oRTVi_h7hYiQptRzK3mTPg  The restaurant itself and overall vibe doesn't...  "
      ]
     },
     "execution_count": 4,
     "metadata": {},
     "output_type": "execute_result"
    }
   ],
   "source": [
    "df = original_df.set_index(\"review_id\")\n",
    "\n",
    "df.drop(\n",
    "    columns=[c for c in df.columns if c not in [\"stars\", \"text\"]],\n",
    "    inplace=True,\n",
    ")\n",
    "assert (df.columns == [\"stars\", \"text\"]).all()\n",
    "\n",
    "df.stars = df.stars - 1\n",
    "assert ((df.stars >= 0) & (df.stars <= 4)).all()\n",
    "\n",
    "#df.text = df.text.str.replace(\"\\n\", \" \")  # replace line breaks with whitespace\n",
    "#assert df[df.text.str.contains(\"\\n\")].empty\n",
    "\n",
    "df.head()"
   ]
  },
  {
   "cell_type": "code",
   "execution_count": 5,
   "metadata": {},
   "outputs": [],
   "source": [
    "test_df = pd.concat([\n",
    "    df[df.stars == star].sample(10_000, random_state=20) \n",
    "    for star in df.stars.unique()\n",
    "])\n",
    "assert (test_df.stars.value_counts(sort=False) == [10_000]*5).all()\n",
    "\n",
    "train_df = df.drop(test_df.index).sample(130_000, random_state=20)\n",
    "train_df.count()\n",
    "assert (train_df.count() == [130_000]*2).all()\n",
    "\n",
    "text_train, y_train, text_test, y_test = (\n",
    "    train_df.text.values, train_df.stars.values, test_df.text.values, test_df.stars.values\n",
    ")\n",
    "assert text_train.shape == y_train.shape\n",
    "assert text_test.shape == y_test.shape"
   ]
  },
  {
   "cell_type": "code",
   "execution_count": 6,
   "metadata": {},
   "outputs": [
    {
     "name": "stdout",
     "output_type": "stream",
     "text": [
      "[Pipeline] ... (step 1 of 3) Processing countvectorizer, total=   7.3s\n",
      "[Pipeline] ...... (step 2 of 3) Processing maxabsscaler, total=   0.5s\n",
      "[Pipeline] ..... (step 3 of 3) Processing sgdclassifier, total=   2.9s\n",
      "BoW accuracy: 0.48794\n",
      "CPU times: user 15.5 s, sys: 1.84 s, total: 17.3 s\n",
      "Wall time: 14 s\n"
     ]
    }
   ],
   "source": [
    "%%time\n",
    "pipe = make_pipeline(\n",
    "    CountVectorizer(max_features=50_000),\n",
    "    MaxAbsScaler(copy=False),\n",
    "    SGDClassifier(\n",
    "        loss=\"log\",  # logistic regression\n",
    "        random_state=40,\n",
    "    ),\n",
    "    verbose=True,\n",
    ")\n",
    "\n",
    "pipe.fit(text_train, y_train)\n",
    "print(f\"BoW accuracy: {accuracy_score(y_test, pipe.predict(text_test))}\")\n",
    "\n",
    "#param_grid = {\n",
    "#    \"sgdclassifier__alpha\": [0.00001, 0.0001, 0.001],\n",
    "#}\n",
    "#grid = GridSearchCV(pipe, param_grid, cv=5, n_jobs=-1)\n",
    "#grid.fit(text_train, y_train)\n",
    "#print(f\"Best cross-validation score: {grid.best_score_}\")\n",
    "#print(f\"Best parameters: {grid.best_params_}\")\n",
    "#print(f\"Test score: {grid.score(text_test, y_test)}\")"
   ]
  },
  {
   "cell_type": "code",
   "execution_count": 7,
   "metadata": {},
   "outputs": [
    {
     "name": "stdout",
     "output_type": "stream",
     "text": [
      "[Pipeline] ... (step 1 of 3) Processing tfidfvectorizer, total=   7.3s\n",
      "[Pipeline] ...... (step 2 of 3) Processing maxabsscaler, total=   0.3s\n",
      "[Pipeline] ..... (step 3 of 3) Processing sgdclassifier, total=   2.7s\n",
      "BoW-TFIDF accuracy: 0.48794\n",
      "CPU times: user 14.9 s, sys: 1.98 s, total: 16.9 s\n",
      "Wall time: 13.6 s\n"
     ]
    }
   ],
   "source": [
    "%%time\n",
    "pipe = make_pipeline(\n",
    "    TfidfVectorizer(max_features=50_000, norm=None),\n",
    "    MaxAbsScaler(copy=False),\n",
    "    SGDClassifier(\n",
    "        loss=\"log\",  # logistic regression\n",
    "        random_state=40,\n",
    "    ),\n",
    "    verbose=True,\n",
    ")\n",
    "\n",
    "pipe.fit(text_train, y_train)\n",
    "print(f\"BoW-TFIDF accuracy: {accuracy_score(y_test, pipe.predict(text_test))}\")\n",
    "\n",
    "#param_grid = {\n",
    "#    \"sgdclassifier__alpha\": [0.00001, 0.0001, 0.001],\n",
    "#}\n",
    "#grid = GridSearchCV(pipe, param_grid, cv=5, n_jobs=-1)\n",
    "#grid.fit(text_train, y_train)\n",
    "#print(f\"Best cross-validation score: {grid.best_score_}\")\n",
    "#print(f\"Best parameters: {grid.best_params_}\")\n",
    "#print(f\"Test score: {grid.score(text_test, y_test)}\")"
   ]
  },
  {
   "cell_type": "code",
   "execution_count": null,
   "metadata": {},
   "outputs": [],
   "source": []
  }
 ],
 "metadata": {
  "kernelspec": {
   "display_name": "Python 3",
   "language": "python",
   "name": "python3"
  },
  "language_info": {
   "codemirror_mode": {
    "name": "ipython",
    "version": 3
   },
   "file_extension": ".py",
   "mimetype": "text/x-python",
   "name": "python",
   "nbconvert_exporter": "python",
   "pygments_lexer": "ipython3",
   "version": "3.7.5"
  }
 },
 "nbformat": 4,
 "nbformat_minor": 4
}
