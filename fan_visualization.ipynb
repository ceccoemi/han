{
 "cells": [
  {
   "cell_type": "code",
   "execution_count": 4,
   "metadata": {},
   "outputs": [],
   "source": [
    "import torch\n",
    "import torch.nn as nn\n",
    "import torch.nn.functional as F\n",
    "import pandas as pd\n",
    "from gensim.models import KeyedVectors\n",
    "import matplotlib\n",
    "import matplotlib.pyplot as plt\n",
    "\n",
    "from models import WordEncoder\n",
    "from config import (\n",
    "    BATCH_SIZE,\n",
    "    DEVICE,\n",
    "    WORD_HIDDEN_SIZE,\n",
    "    BIDIRECTIONAL,\n",
    "    Yelp,\n",
    "    Yahoo,\n",
    "    Amazon,\n",
    "    Synthetic,\n",
    ")\n",
    "\n",
    "%matplotlib inline\n",
    "matplotlib.rcParams[\"figure.figsize\"] = [20, 20]"
   ]
  },
  {
   "cell_type": "code",
   "execution_count": 7,
   "metadata": {},
   "outputs": [],
   "source": [
    "class Attention(nn.Module):\n",
    "    def __init__(self, input_size):\n",
    "        super(Attention, self).__init__()\n",
    "        self.input_size = input_size\n",
    "        self.fc = nn.Linear(self.input_size, self.input_size)\n",
    "        self.context_vector = nn.Parameter(torch.randn(self.input_size))\n",
    "        self.last_weights = []  # for attention visualization\n",
    "\n",
    "    def forward(self, input):\n",
    "        output = torch.tanh(self.fc(input))\n",
    "        output = torch.matmul(output, self.context_vector)\n",
    "        output = F.softmax(output, dim=1)\n",
    "        output = output.permute(1, 0)\n",
    "        input = input.permute(1, 0, 2)\n",
    "        batch_size = input.shape[1]\n",
    "        weighted_sum = torch.zeros(batch_size, self.input_size).to(DEVICE)\n",
    "        self.last_weights = []\n",
    "        for alpha, h in zip(output, input):\n",
    "            self.last_weights.append(alpha.item())\n",
    "            alpha = alpha.unsqueeze(1).expand_as(h)\n",
    "            weighted_sum += alpha * h\n",
    "        return weighted_sum\n",
    "\n",
    "\n",
    "class Fan(nn.Module):\n",
    "    \"Flat Attention Network\"\n",
    "\n",
    "    def __init__(self, embedding_matrix, word_hidden_size, num_classes, batch_size):\n",
    "        super(Fan, self).__init__()\n",
    "        self.word_hidden_size = word_hidden_size\n",
    "        self.word_encoder = WordEncoder(embedding_matrix, word_hidden_size)\n",
    "        self.word_attention = Attention(word_hidden_size * BIDIRECTIONAL)\n",
    "        self.fc = nn.Linear(word_hidden_size * BIDIRECTIONAL, num_classes)\n",
    "        self.init_hidden_state(batch_size)\n",
    "\n",
    "    def init_hidden_state(self, batch_size):\n",
    "        self.word_hidden_state = torch.zeros(\n",
    "            BIDIRECTIONAL, batch_size, self.word_hidden_size\n",
    "        ).to(DEVICE)\n",
    "\n",
    "    def forward(self, input):\n",
    "        # Move the batch size in the last position because\n",
    "        # we have to iterate over the document dimension,\n",
    "        # that is over all the words of the document.\n",
    "        input = input.permute(1, 0)\n",
    "        self.word_hidden_state = torch.zeros_like(self.word_hidden_state).to(DEVICE)\n",
    "        word_encoder_outputs = []\n",
    "        for word in input:\n",
    "            # Add an empty dimension because the GRU needs a 3D input,\n",
    "            # moreover this is the dimension where all the encoder\n",
    "            # outputs will be concatenated\n",
    "            word = word.unsqueeze(0)\n",
    "            output, self.word_hidden_state = self.word_encoder(\n",
    "                word, self.word_hidden_state\n",
    "            )\n",
    "            word_encoder_outputs.append(output)\n",
    "        word_attn_input = torch.cat(word_encoder_outputs, dim=0)\n",
    "        word_attn_input = word_attn_input.permute(1, 0, 2)\n",
    "        output = self.word_attention(word_attn_input)\n",
    "        output = self.fc(output)\n",
    "        output = F.log_softmax(output, dim=1)\n",
    "        return output"
   ]
  },
  {
   "cell_type": "code",
   "execution_count": 10,
   "metadata": {},
   "outputs": [
    {
     "ename": "RuntimeError",
     "evalue": "Error(s) in loading state_dict for Fan:\n\tsize mismatch for word_encoder.embedding.weight: copying a param with shape torch.Size([111701, 200]) from checkpoint, the shape in current model is torch.Size([97822, 200]).",
     "output_type": "error",
     "traceback": [
      "\u001b[0;31m---------------------------------------------------------------------------\u001b[0m",
      "\u001b[0;31mRuntimeError\u001b[0m                              Traceback (most recent call last)",
      "\u001b[0;32m<ipython-input-10-d197e395e4de>\u001b[0m in \u001b[0;36m<module>\u001b[0;34m\u001b[0m\n\u001b[1;32m     10\u001b[0m     \u001b[0mbatch_size\u001b[0m\u001b[0;34m=\u001b[0m\u001b[0mBATCH_SIZE\u001b[0m\u001b[0;34m,\u001b[0m\u001b[0;34m\u001b[0m\u001b[0;34m\u001b[0m\u001b[0m\n\u001b[1;32m     11\u001b[0m ).to(DEVICE)\n\u001b[0;32m---> 12\u001b[0;31m model.load_state_dict(\n\u001b[0m\u001b[1;32m     13\u001b[0m     \u001b[0mtorch\u001b[0m\u001b[0;34m.\u001b[0m\u001b[0mload\u001b[0m\u001b[0;34m(\u001b[0m\u001b[0;34m\"models/yelp-wan-20200422-152139.pth\"\u001b[0m\u001b[0;34m,\u001b[0m \u001b[0mmap_location\u001b[0m\u001b[0;34m=\u001b[0m\u001b[0mtorch\u001b[0m\u001b[0;34m.\u001b[0m\u001b[0mdevice\u001b[0m\u001b[0;34m(\u001b[0m\u001b[0mDEVICE\u001b[0m\u001b[0;34m)\u001b[0m\u001b[0;34m)\u001b[0m\u001b[0;34m\u001b[0m\u001b[0;34m\u001b[0m\u001b[0m\n\u001b[1;32m     14\u001b[0m )\n",
      "\u001b[0;32m~/Development/pyvenvs/venv38/lib/python3.8/site-packages/torch/nn/modules/module.py\u001b[0m in \u001b[0;36mload_state_dict\u001b[0;34m(self, state_dict, strict)\u001b[0m\n\u001b[1;32m    844\u001b[0m \u001b[0;34m\u001b[0m\u001b[0m\n\u001b[1;32m    845\u001b[0m         \u001b[0;32mif\u001b[0m \u001b[0mlen\u001b[0m\u001b[0;34m(\u001b[0m\u001b[0merror_msgs\u001b[0m\u001b[0;34m)\u001b[0m \u001b[0;34m>\u001b[0m \u001b[0;36m0\u001b[0m\u001b[0;34m:\u001b[0m\u001b[0;34m\u001b[0m\u001b[0;34m\u001b[0m\u001b[0m\n\u001b[0;32m--> 846\u001b[0;31m             raise RuntimeError('Error(s) in loading state_dict for {}:\\n\\t{}'.format(\n\u001b[0m\u001b[1;32m    847\u001b[0m                                self.__class__.__name__, \"\\n\\t\".join(error_msgs)))\n\u001b[1;32m    848\u001b[0m         \u001b[0;32mreturn\u001b[0m \u001b[0m_IncompatibleKeys\u001b[0m\u001b[0;34m(\u001b[0m\u001b[0mmissing_keys\u001b[0m\u001b[0;34m,\u001b[0m \u001b[0munexpected_keys\u001b[0m\u001b[0;34m)\u001b[0m\u001b[0;34m\u001b[0m\u001b[0;34m\u001b[0m\u001b[0m\n",
      "\u001b[0;31mRuntimeError\u001b[0m: Error(s) in loading state_dict for Fan:\n\tsize mismatch for word_encoder.embedding.weight: copying a param with shape torch.Size([111701, 200]) from checkpoint, the shape in current model is torch.Size([97822, 200])."
     ]
    }
   ],
   "source": [
    "dataset_config = Yelp\n",
    "wv = KeyedVectors.load(dataset_config.EMBEDDING_FILE)\n",
    "\n",
    "df = pd.read_csv(dataset_config.TRAIN_DATASET).fillna(\"\")\n",
    "\n",
    "model = Fan(\n",
    "    embedding_matrix=wv.vectors,\n",
    "    word_hidden_size=WORD_HIDDEN_SIZE,\n",
    "    num_classes=len(df[\"label\"].unique()),\n",
    "    batch_size=BATCH_SIZE,\n",
    ").to(DEVICE)\n",
    "model.load_state_dict(\n",
    "    torch.load(\"models/yelp-wan-20200422-152139.pth\", map_location=torch.device(DEVICE))\n",
    ")"
   ]
  },
  {
   "cell_type": "code",
   "execution_count": 10,
   "metadata": {},
   "outputs": [
    {
     "name": "stdout",
     "output_type": "stream",
     "text": [
      "index = 34869\n",
      "label = 1\n",
      "Where are my pants? It is selfish also a garbage-collected runtime system . Do you come here often?\n",
      "prediction = 1\n"
     ]
    }
   ],
   "source": [
    "index = (\n",
    "    df[(df[\"label\"] == 1) & (df[\"text\"].str.len() < 100)].sample(1).index.tolist()[0]\n",
    ")\n",
    "print(f\"{index = }\")\n",
    "label, doc = df.loc[index]\n",
    "print(f\"{label = }\")\n",
    "print(doc)\n",
    "tokens = tokenize(doc)\n",
    "features = [word_to_index(doc, wv.vocab) for doc in tokens]\n",
    "prediction = model(torch.LongTensor(features).unsqueeze(0).to(DEVICE)).argmax(1).item()\n",
    "print(f\"{prediction = }\")"
   ]
  },
  {
   "cell_type": "code",
   "execution_count": 11,
   "metadata": {},
   "outputs": [
    {
     "data": {
      "image/png": "[encoded data removed]",
      "text/plain": [
       "<Figure size 1440x1440 with 1 Axes>"
      ]
     },
     "metadata": {
      "needs_background": "light"
     },
     "output_type": "display_data"
    }
   ],
   "source": [
    "# Visualization of the attetion in the WAN\n",
    "\n",
    "fig, ax = plt.subplots()\n",
    "im = ax.imshow([model.word_attention.last_weights])\n",
    "ax.set_xticks(range(len(tokens)))\n",
    "ax.set_xticklabels((wv.index2word[f] for f in features), fontsize=18)\n",
    "ax.set_title(\"Word attention\", fontsize=20)\n",
    "\n",
    "# Rotate the tick labels and set their alignment.\n",
    "plt.setp(ax.get_xticklabels(), rotation=30, ha=\"right\", rotation_mode=\"anchor\")\n",
    "\n",
    "# Add attention weight in each rectangle\n",
    "for i in range(len(tokens)):\n",
    "    ax.text(\n",
    "        i,\n",
    "        0,\n",
    "        round(model.word_attention.last_weights[i], 2),\n",
    "        fontsize=18,\n",
    "        ha=\"center\",\n",
    "        va=\"center\",\n",
    "        color=\"w\",\n",
    "    )\n",
    "\n",
    "# Remove y ticks\n",
    "ax.yaxis.set_major_locator(plt.NullLocator())\n",
    "\n",
    "fig.tight_layout()\n",
    "# fig.savefig(\"visual_attn.pdf\")"
   ]
  },
  {
   "cell_type": "code",
   "execution_count": null,
   "metadata": {},
   "outputs": [],
   "source": []
  }
 ],
 "metadata": {
  "kernelspec": {
   "display_name": "Python 3",
   "language": "python",
   "name": "python3"
  },
  "language_info": {
   "codemirror_mode": {
    "name": "ipython",
    "version": 3
   },
   "file_extension": ".py",
   "mimetype": "text/x-python",
   "name": "python",
   "nbconvert_exporter": "python",
   "pygments_lexer": "ipython3",
   "version": "3.8.2"
  }
 },
 "nbformat": 4,
 "nbformat_minor": 4
}
